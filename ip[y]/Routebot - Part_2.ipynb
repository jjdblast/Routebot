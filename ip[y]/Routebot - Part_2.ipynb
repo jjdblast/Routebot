{
 "cells": [
  {
   "cell_type": "markdown",
   "metadata": {},
   "source": [
    "# Routebot - Part #2\n",
    "### Trajectory data mining from GoPro videos using Visual SLAM and Visual Odometry"
   ]
  },
  {
   "cell_type": "markdown",
   "metadata": {},
   "source": [
    "<font color='blue'>*This is part #2 in the series of posts describing the implemention of Routebot project.*</font>"
   ]
  },
  {
   "cell_type": "markdown",
   "metadata": {},
   "source": [
    "In the previous post I've introduced the basic concepts of visual SLAM and ORB-SLAM algorithm specifically.\n",
    "\n",
    "This time we will test ORB-SLAM algorithm for the key scenario of Routebot project - trajectory data mining from the action camera videos (e.g. GoPro, Garmin VIRB). I've selected a snowboarding video recorded by GoPro Hero 3. \n",
    "\n",
    "The result of this experiment has been uploaded to YouTube: \n",
    "https://www.youtube.com/watch?v=GDgRBcZsBNI"
   ]
  },
  {
   "cell_type": "markdown",
   "metadata": {
    "collapsed": false
   },
   "source": [
    "<a href=\"http://www.youtube.com/watch?feature=player_embedded&v=GDgRBcZsBNI\n",
    "\" target=\"_blank\"><img src=\"http://img.youtube.com/vi/GDgRBcZsBNI/0.jpg\" \n",
    "alt=\"IMAGE ALT TEXT HERE\" width=\"560\" height=\"315\" border=\"10\" /></a>"
   ]
  },
  {
   "cell_type": "markdown",
   "metadata": {},
   "source": [
    "Some code in C/C++ using OpenCV has been implemented for video processing and SLAM activation. This is a very simple demo application:"
   ]
  },
  {
   "cell_type": "code",
   "execution_count": null,
   "metadata": {
    "collapsed": true
   },
   "outputs": [],
   "source": [
    "#include <iostream>\n",
    "#include <algorithm>\n",
    "#include <fstream>\n",
    "#include <chrono>\n",
    "\n",
    "#include <cv.hpp>\n",
    "#include <System.h>\n",
    "\n",
    "using namespace std;\n",
    "using namespace cv;\n",
    "\n",
    "int main(int argc, char **argv) {\n",
    "\tORB_SLAM2::System SLAM(argv[1],argv[2],ORB_SLAM2::System::MONOCULAR,true);\n",
    "\n",
    "\tVideoCapture cap(\"Examples/Monocular/GoPro-Demo.mp4\");\n",
    "\n",
    "\tif(!cap.isOpened())  // Check if we succeeded\n",
    "\t    return -1;\n",
    "\n",
    "\n",
    "\tfor(;;) {\n",
    "\t\t// Iterate over every frame for tracking via ORB-SLAM\n",
    "\t\tMat sFrame;\n",
    "\t\tcap >> sFrame;\n",
    "\n",
    "\t\tSLAM.TrackMonocular(sFrame, cap.get(::CV_CAP_PROP_POS_MSEC));\n",
    "\t}\n",
    "\n",
    "\tSLAM.Shutdown();\n",
    "\treturn 0;\n",
    "}"
   ]
  },
  {
   "cell_type": "markdown",
   "metadata": {},
   "source": [
    "Parameters for camera calibration and ORB features extraction have been tuned for GoPro Hero 3/4 videos. The largest efforts in this experiment have been consumed by tuning and checking the camera calibration parameters.\n",
    "\n",
    "The settings for ORB Extractor have been updated with a much higher amount of features per image: 15,000 features. This change has resulted in a more stable tracking with less interruptions.\n",
    "\n",
    "The following parameters have been tuned for GoPro Hero 3:"
   ]
  },
  {
   "cell_type": "code",
   "execution_count": null,
   "metadata": {
    "collapsed": true
   },
   "outputs": [],
   "source": [
    "# Camera calibration and distortion parameters (OpenCV) \n",
    "Camera.fx: 611.18384\n",
    "Camera.fy: 611.06728\n",
    "Camera.cx: 515.31108\n",
    "Camera.cy: 402.07541\n",
    "\n",
    "Camera.k1: -0.1054120\n",
    "Camera.k2: -0.0128245\n",
    "Camera.p1: -0.0017121\n",
    "Camera.p2: 0.00142017\n",
    "Camera.k3: -0.00082381\n",
    "\n",
    "# Camera frames per second \n",
    "Camera.fps: 50.0\n",
    "\n",
    "# Color order of the images (0: BGR, 1: RGB. It is ignored if images are grayscale)\n",
    "Camera.RGB: 1\n",
    "\n",
    "#--------------------------------------------------------------------------------------------\n",
    "# ORB Parameters\n",
    "#--------------------------------------------------------------------------------------------\n",
    "\n",
    "# ORB Extractor: Number of features per image\n",
    "ORBextractor.nFeatures: 15000\n",
    "\n",
    "# ORB Extractor: Scale factor between levels in the scale pyramid \t\n",
    "ORBextractor.scaleFactor: 1.2\n",
    "\n",
    "# ORB Extractor: Number of levels in the scale pyramid\t\n",
    "ORBextractor.nLevels: 8\n",
    "\n",
    "# ORB Extractor: Fast threshold\n",
    "# Image is divided in a grid. At each cell FAST are extracted imposing a minimum response.\n",
    "# Firstly we impose iniThFAST. If no corners are detected we impose a lower value minThFAST\n",
    "# You can lower these values if your images have low contrast\t\t\t\n",
    "ORBextractor.iniThFAST: 20\n",
    "ORBextractor.minThFAST: 7\n",
    "\n",
    "#--------------------------------------------------------------------------------------------\n",
    "# Viewer Parameters\n",
    "#--------------------------------------------------------------------------------------------\n",
    "Viewer.KeyFrameSize: 0.05\n",
    "Viewer.KeyFrameLineWidth: 1\n",
    "Viewer.GraphLineWidth: 0.9\n",
    "Viewer.PointSize:2\n",
    "Viewer.CameraSize: 0.08\n",
    "Viewer.CameraLineWidth: 3\n",
    "Viewer.ViewpointX: 0.5\n",
    "Viewer.ViewpointY: 0.75\n",
    "Viewer.ViewpointZ: -0.5\n",
    "Viewer.ViewpointF: 350"
   ]
  },
  {
   "cell_type": "markdown",
   "metadata": {},
   "source": [
    "This IP[y] Notebook and Routebot project are available on GitHub: https://github.com/llvll/Routebot"
   ]
  }
 ],
 "metadata": {
  "kernelspec": {
   "display_name": "Python 3",
   "language": "python",
   "name": "python3"
  },
  "language_info": {
   "codemirror_mode": {
    "name": "ipython",
    "version": 3
   },
   "file_extension": ".py",
   "mimetype": "text/x-python",
   "name": "python",
   "nbconvert_exporter": "python",
   "pygments_lexer": "ipython3",
   "version": "3.4.3"
  }
 },
 "nbformat": 4,
 "nbformat_minor": 0
}
